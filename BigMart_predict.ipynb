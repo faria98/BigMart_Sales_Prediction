{
  "nbformat": 4,
  "nbformat_minor": 0,
  "metadata": {
    "colab": {
      "name": "BigMart_predict.ipynb",
      "provenance": [],
      "collapsed_sections": [],
      "mount_file_id": "1zOacKa4j9beVVieHoEQIenR6136wbVx6",
      "authorship_tag": "ABX9TyOXBNMgny+DVe75naKehJpB",
      "include_colab_link": true
    },
    "kernelspec": {
      "name": "python3",
      "display_name": "Python 3"
    }
  },
  "cells": [
    {
      "cell_type": "markdown",
      "metadata": {
        "id": "view-in-github",
        "colab_type": "text"
      },
      "source": [
        "<a href=\"https://colab.research.google.com/github/kazishuvo22/BigMart_Sales_Prediction/blob/master/BigMart_predict.ipynb\" target=\"_parent\"><img src=\"https://colab.research.google.com/assets/colab-badge.svg\" alt=\"Open In Colab\"/></a>"
      ]
    },
    {
      "cell_type": "markdown",
      "metadata": {
        "id": "pcxb3bE4vosR",
        "colab_type": "text"
      },
      "source": [
        "**BigMart Sales prediction Dataset**\n",
        "\n",
        "---\n",
        "\n",
        "Find out the properties of a product, and store which impacts the sales of a product.\n",
        "\n",
        "---\n",
        "\n",
        "\n"
      ]
    },
    {
      "cell_type": "code",
      "metadata": {
        "id": "0INRmdpYuCWO",
        "colab_type": "code",
        "colab": {}
      },
      "source": [
        "import pandas as pd\n",
        "import numpy as np\n",
        "import matplotlib.pyplot as plt\n",
        "\n",
        "from google.colab import drive\n",
        "import glob\n",
        "%matplotlib inline\n"
      ],
      "execution_count": 20,
      "outputs": []
    },
    {
      "cell_type": "code",
      "metadata": {
        "id": "zRBaPfHcwl2Y",
        "colab_type": "code",
        "colab": {}
      },
      "source": [
        "train=\"/content/drive/My Drive/cse445 dataset/Train.csv\"\n",
        "test=\"/content/drive/My Drive/cse445 dataset/Test.csv\"\n",
        "submission=\"/content/drive/My Drive/cse445 dataset/Submission.csv\""
      ],
      "execution_count": 24,
      "outputs": []
    },
    {
      "cell_type": "code",
      "metadata": {
        "id": "6rCp3kQCyTLe",
        "colab_type": "code",
        "colab": {
          "base_uri": "https://localhost:8080/",
          "height": 68
        },
        "outputId": "11566b5f-5594-4a01-f536-fad7d303683d"
      },
      "source": [
        "train, test, submission"
      ],
      "execution_count": 25,
      "outputs": [
        {
          "output_type": "execute_result",
          "data": {
            "text/plain": [
              "('/content/drive/My Drive/cse445 dataset/Train.csv',\n",
              " '/content/drive/My Drive/cse445 dataset/Test.csv',\n",
              " '/content/drive/My Drive/cse445 dataset/Submission.csv')"
            ]
          },
          "metadata": {
            "tags": []
          },
          "execution_count": 25
        }
      ]
    },
    {
      "cell_type": "code",
      "metadata": {
        "id": "BorSQpLCyXbL",
        "colab_type": "code",
        "colab": {}
      },
      "source": [
        "train = pd.read_csv(train)\n",
        "test = pd.read_csv(test)\n",
        "submission = pd.read_csv(submission)"
      ],
      "execution_count": 26,
      "outputs": []
    }
  ]
}