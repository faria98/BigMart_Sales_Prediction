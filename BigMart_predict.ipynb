{
  "nbformat": 4,
  "nbformat_minor": 0,
  "metadata": {
    "colab": {
      "name": "BigMart_predict.ipynb",
      "provenance": [],
      "collapsed_sections": [],
      "mount_file_id": "1zOacKa4j9beVVieHoEQIenR6136wbVx6",
      "authorship_tag": "ABX9TyPLt3G8tZVaXIoi7GD7BD/b",
      "include_colab_link": true
    },
    "kernelspec": {
      "name": "python3",
      "display_name": "Python 3"
    }
  },
  "cells": [
    {
      "cell_type": "markdown",
      "metadata": {
        "id": "view-in-github",
        "colab_type": "text"
      },
      "source": [
        "<a href=\"https://colab.research.google.com/github/kazishuvo22/BigMart_Sales_Prediction/blob/master/BigMart_predict.ipynb\" target=\"_parent\"><img src=\"https://colab.research.google.com/assets/colab-badge.svg\" alt=\"Open In Colab\"/></a>"
      ]
    },
    {
      "cell_type": "markdown",
      "metadata": {
        "id": "pcxb3bE4vosR",
        "colab_type": "text"
      },
      "source": [
        "**BigMart Sales prediction Dataset**\n",
        "\n",
        "---\n",
        "\n",
        "Find out the properties of a product, and store which impacts the sales of a product.\n",
        "\n",
        "---\n",
        "\n",
        "\n"
      ]
    },
    {
      "cell_type": "code",
      "metadata": {
        "id": "0INRmdpYuCWO",
        "colab_type": "code",
        "colab": {}
      },
      "source": [
        ""
      ],
      "execution_count": null,
      "outputs": []
    }
  ]
}